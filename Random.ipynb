{
 "cells": [
  {
   "cell_type": "code",
   "execution_count": 1,
   "id": "83a3c4a6-208d-4f16-a5f0-024d2c52a2ee",
   "metadata": {},
   "outputs": [],
   "source": [
    "import random\n",
    "import string"
   ]
  },
  {
   "cell_type": "code",
   "execution_count": 2,
   "id": "21d343b4-790b-4309-acd7-1b8291fd7054",
   "metadata": {},
   "outputs": [],
   "source": [
    "import matplotlib.pyplot as plt"
   ]
  },
  {
   "cell_type": "code",
   "execution_count": 3,
   "id": "e026ee25-9fee-4c88-a002-53a14e57e4f9",
   "metadata": {},
   "outputs": [],
   "source": [
    "def random_walk_stock_comparison(df, choices=[-1, 1], probs=[0.5, 0.5], seed=2):\n",
    "    \"\"\"\n",
    "    Model a random walk from a stock's first closing price in the dataframe.\n",
    "    Displays 3 random walks and the actual data in randomly assigned subplots.\n",
    "    Can you find the real data?\n",
    "\n",
    "    Parameters: \n",
    "        - df: The dataframe of the real stock data.\n",
    "        - choices: The choices of step sizes, defaults to [-1, 1].\n",
    "        - probs: The probability of getting each step size, \n",
    "                 defaults to [0.5, 0.5]. This should be the same \n",
    "                 size as choices.\n",
    "        - seed: The random seed for repeatability.\n",
    "\n",
    "    Returns:\n",
    "        Prints the location of the actual data and \n",
    "        returns the matplotlib Axes object.        \n",
    "    \"\"\"\n",
    "    random.seed(seed)\n",
    "\n",
    "    fig, axes = plt.subplots(2, 2, figsize=(15, 10))\n",
    "    stock_location = random.randint(0, 3)\n",
    "\n",
    "    for i, ax in enumerate(axes.flatten()):\n",
    "        if i == stock_location:\n",
    "            ax.plot(df.index, df.close)\n",
    "        else:\n",
    "            steps = random.choices(\n",
    "                choices, weights=probs, k=len(df.index) - 1\n",
    "            )\n",
    "            walk = [df.first('1B').close.iat[0]]\n",
    "            for step in steps:\n",
    "                walk.append(walk[-1] + step)\n",
    "            ax.plot(df.index, walk)\n",
    "        ax.set_ylabel('price')\n",
    "        \n",
    "        ax.set_title(string.ascii_uppercase[i])\n",
    "\n",
    "    real_stock = f'real stock is at location {string.ascii_uppercase[stock_location]}'\n",
    "    \n",
    "    return real_stock, axes"
   ]
  },
  {
   "cell_type": "code",
   "execution_count": null,
   "id": "7ba0827f-97ce-487a-843a-f1f06363a3a5",
   "metadata": {},
   "outputs": [],
   "source": []
  }
 ],
 "metadata": {
  "kernelspec": {
   "display_name": "Python 3 (ipykernel)",
   "language": "python",
   "name": "python3"
  },
  "language_info": {
   "codemirror_mode": {
    "name": "ipython",
    "version": 3
   },
   "file_extension": ".py",
   "mimetype": "text/x-python",
   "name": "python",
   "nbconvert_exporter": "python",
   "pygments_lexer": "ipython3",
   "version": "3.10.12"
  }
 },
 "nbformat": 4,
 "nbformat_minor": 5
}
